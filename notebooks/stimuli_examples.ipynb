{
 "cells": [
  {
   "cell_type": "code",
   "execution_count": null,
   "metadata": {},
   "outputs": [],
   "source": [
    "%load_ext autoreload\n",
    "%autoreload 2\n",
    "\n",
    "%matplotlib inline\n",
    "%config InlineBackend.figure_format = 'retina'\n",
    "\n",
    "import datajoint as dj\n",
    "dj.config[\"enable_python_native_blobs\"] = True\n",
    "dj.config[\"database.host\"] = '134.2.168.16'\n",
    "dj.config['schema_name'] = \"nnfabrik_monkey_mei\"\n",
    "schema = dj.schema(\"nnfabrik_monkey_mei\")\n",
    "\n",
    "import os\n",
    "from os import listdir\n",
    "from os.path import isfile, join\n",
    "\n",
    "import torch\n",
    "import numpy as np\n",
    "import pickle \n",
    "import time\n",
    "import matplotlib.pyplot as plt\n",
    "import seaborn as sns\n",
    "\n",
    "import nnfabrik\n",
    "from nnfabrik import main, builder\n",
    "from nnfabrik.main import *\n",
    "\n",
    "import nnvision\n",
    "from nnvision.tables.from_nnfabrik import TrainedModel\n",
    "from nnvision.tables.from_nnfabrik import DataInfo"
   ]
  },
  {
   "cell_type": "code",
   "execution_count": 3,
   "metadata": {},
   "outputs": [],
   "source": [
    "import insilico_stimuli\n",
    "from insilico_stimuli.stimuli import BarsSet, GaborSet, PlaidsGaborSet, DiffOfGaussians, CenterSurround, PlaidsGratingSet\n",
    "from insilico_stimuli.parameters import *"
   ]
  },
  {
   "cell_type": "code",
   "execution_count": 4,
   "metadata": {},
   "outputs": [],
   "source": [
    "# nnfabrik main\n",
    "from nnvision.tables.main import MonkeyExperiment\n",
    "from nnvision.tables.from_mei import TrainedEnsembleModel, MEIMethod\n",
    "from featurevis.main import MEITemplate\n",
    "from nnvision.tables.measures import OracleScore\n",
    "\n",
    "@schema\n",
    "class MEI_update(MEITemplate):\n",
    "    trained_model_table = TrainedEnsembleModel\n",
    "    selector_table = MonkeyExperiment.Units"
   ]
  },
  {
   "cell_type": "markdown",
   "metadata": {},
   "source": [
    "# Load the model"
   ]
  },
  {
   "cell_type": "code",
   "execution_count": null,
   "metadata": {},
   "outputs": [],
   "source": [
    "# loading model\n",
    "ensemble_hash = 'e7a8d0b961ee37ffda0779bfed95f1cf'\n",
    "\n",
    "model_key = (TrainedModel * TrainedEnsembleModel.Member() & dict(ensemble_hash=ensemble_hash)).fetch(\"KEY\", limit=1, order_by=\"score DESC\")\n",
    "model = TrainedModel().load_model(model_key, include_dataloader=False)\n",
    "model.eval()"
   ]
  },
  {
   "cell_type": "code",
   "execution_count": 6,
   "metadata": {},
   "outputs": [],
   "source": [
    "# canvas size\n",
    "h = 41\n",
    "w = 41\n",
    "canvas_size = [w, h]"
   ]
  },
  {
   "cell_type": "code",
   "execution_count": 7,
   "metadata": {},
   "outputs": [
    {
     "data": {
      "text/plain": [
       "Parameter containing:\n",
       "tensor([[[[-0.0482,  0.0579]],\n",
       "\n",
       "         [[-0.2883,  0.0565]],\n",
       "\n",
       "         [[-0.2923,  0.1154]],\n",
       "\n",
       "         [[ 0.0009,  0.0505]],\n",
       "\n",
       "         [[-0.0600, -0.0448]],\n",
       "\n",
       "         [[-0.2938,  0.1244]],\n",
       "\n",
       "         [[-0.2965,  0.3931]],\n",
       "\n",
       "         [[-0.1132,  0.4247]],\n",
       "\n",
       "         [[ 0.0509,  0.3379]],\n",
       "\n",
       "         [[-0.2086,  0.3161]],\n",
       "\n",
       "         [[-0.3293,  0.0871]],\n",
       "\n",
       "         [[-0.2918,  0.3593]],\n",
       "\n",
       "         [[-0.0455,  0.0573]],\n",
       "\n",
       "         [[-0.2696,  0.3134]],\n",
       "\n",
       "         [[-0.1766,  0.2250]],\n",
       "\n",
       "         [[-0.1001,  0.0033]],\n",
       "\n",
       "         [[-0.0216,  0.0470]],\n",
       "\n",
       "         [[-0.3051,  0.2617]],\n",
       "\n",
       "         [[-0.2893,  0.0936]],\n",
       "\n",
       "         [[-0.1083,  0.3236]],\n",
       "\n",
       "         [[-0.0547,  0.3937]],\n",
       "\n",
       "         [[-0.2828,  0.1749]],\n",
       "\n",
       "         [[-0.2872,  0.0415]],\n",
       "\n",
       "         [[-0.2872,  0.2713]],\n",
       "\n",
       "         [[-0.2916,  0.2917]],\n",
       "\n",
       "         [[-0.2930,  0.0860]],\n",
       "\n",
       "         [[-0.2917,  0.0071]],\n",
       "\n",
       "         [[-0.2687,  0.3289]],\n",
       "\n",
       "         [[ 0.0141,  0.4193]]]], requires_grad=True)"
      ]
     },
     "execution_count": 7,
     "metadata": {},
     "output_type": "execute_result"
    }
   ],
   "source": [
    "data_key='3631807112901'                   # model specifics for optimization\n",
    "n_units = model.readout[data_key].outdims  # number of model neurons \n",
    "total_trials = 30                          # for optimization\n",
    "unit_idx = 27                              # arbitrary model neuron\n",
    "\n",
    "# model readout coordinates from -1, 1 \n",
    "model.readout[data_key].grid  # needs to be converted to canvas size by min-max-normalization"
   ]
  },
  {
   "cell_type": "markdown",
   "metadata": {},
   "source": [
    "# Bar Stimulus"
   ]
  },
  {
   "cell_type": "code",
   "execution_count": 7,
   "metadata": {},
   "outputs": [],
   "source": [
    "# FiniteParameter -> bar_set1\n",
    "locations    = FiniteParameter([[20.2, 20.2]])\n",
    "lengths      = FiniteParameter([15.0])\n",
    "widths       = FiniteParameter([7.0])\n",
    "contrasts    = FiniteParameter([-1]) \n",
    "orientations = FiniteParameter([0.0, np.pi/4, np.pi/2]) \n",
    "grey_levels  = FiniteParameter([0.0])\n",
    "\n",
    "# class object\n",
    "bar_set1 = BarsSet(canvas_size=canvas_size,\n",
    "                   locations=locations,\n",
    "                   lengths=lengths,\n",
    "                   widths=widths,\n",
    "                   contrasts=contrasts,\n",
    "                   orientations=orientations,\n",
    "                   grey_levels=grey_levels)"
   ]
  },
  {
   "cell_type": "code",
   "execution_count": 8,
   "metadata": {},
   "outputs": [
    {
     "data": {
      "image/png": "[encoded data removed]",
      "text/plain": [
       "<Figure size 720x360 with 3 Axes>"
      ]
     },
     "metadata": {
      "image/png": {
       "height": 135,
       "width": 426
      },
      "needs_background": "light"
     },
     "output_type": "display_data"
    }
   ],
   "source": [
    "plt.figure(figsize=(10, 5))\n",
    "\n",
    "for i, img in enumerate(bar_set1.images()):\n",
    "    plt.subplot(2, 4, i + 1)\n",
    "    plt.imshow(img, cmap='gray', vmin=-1, vmax=1)\n",
    "    plt.axis('off')"
   ]
  },
  {
   "cell_type": "code",
   "execution_count": 9,
   "metadata": {},
   "outputs": [
    {
     "name": "stdout",
     "output_type": "stream",
     "text": [
      "[41, 41]\n",
      "[[20.2, 20.2]]\n",
      "[15.0]\n",
      "[7.0]\n",
      "[-1]\n",
      "[0.0, 0.7853981633974483, 1.5707963267948966]\n",
      "[0.0]\n",
      "[-1, 1]\n"
     ]
    }
   ],
   "source": [
    "print(bar_set1.canvas_size)\n",
    "print(bar_set1.locations)\n",
    "print(bar_set1.lengths)\n",
    "print(bar_set1.widths)\n",
    "print(bar_set1.contrasts)\n",
    "print(bar_set1.orientations)\n",
    "print(bar_set1.grey_levels)\n",
    "print(bar_set1.pixel_boundaries)"
   ]
  },
  {
   "cell_type": "code",
   "execution_count": 10,
   "metadata": {},
   "outputs": [],
   "source": [
    "# with lists -> bar_set2\n",
    "locations    = [[20, 20], [20, 20]]\n",
    "lengths      = [11.0]\n",
    "widths       = [5.0]\n",
    "contrasts    = [-1] \n",
    "orientations = [np.pi/4, np.pi/2] \n",
    "grey_levels  = [0.0]\n",
    "\n",
    "# class object\n",
    "bar_set2 = BarsSet(canvas_size=canvas_size,\n",
    "                   locations=locations,\n",
    "                   lengths=lengths,\n",
    "                   widths=widths,\n",
    "                   contrasts=contrasts,\n",
    "                   orientations=orientations,\n",
    "                   grey_levels=grey_levels)"
   ]
  },
  {
   "cell_type": "code",
   "execution_count": 11,
   "metadata": {},
   "outputs": [
    {
     "name": "stdout",
     "output_type": "stream",
     "text": [
      "[41, 41]\n",
      "[[20, 20], [20, 20]]\n",
      "[11.0]\n",
      "[5.0]\n",
      "[-1]\n",
      "[0.7853981633974483, 1.5707963267948966]\n",
      "[0.0]\n",
      "[-1, 1]\n"
     ]
    }
   ],
   "source": [
    "print(bar_set2.canvas_size)\n",
    "print(bar_set2.locations)\n",
    "print(bar_set2.lengths)\n",
    "print(bar_set2.widths)\n",
    "print(bar_set2.contrasts)\n",
    "print(bar_set2.orientations)\n",
    "print(bar_set2.grey_levels)\n",
    "print(bar_set2.pixel_boundaries)"
   ]
  },
  {
   "cell_type": "code",
   "execution_count": 12,
   "metadata": {},
   "outputs": [
    {
     "ename": "TypeError",
     "evalue": "find_optimal_stimulus search method only supports input parameters from module parameters.py",
     "output_type": "error",
     "traceback": [
      "\u001B[0;31m---------------------------------------------------------------------------\u001B[0m",
      "\u001B[0;31mTypeError\u001B[0m                                 Traceback (most recent call last)",
      "\u001B[0;32m<ipython-input-12-26f12da177e2>\u001B[0m in \u001B[0;36m<module>\u001B[0;34m\u001B[0m\n\u001B[1;32m      1\u001B[0m \u001B[0;31m# search methods should only be supported for objects of parameters.py\u001B[0m\u001B[0;34m\u001B[0m\u001B[0;34m\u001B[0m\u001B[0;34m\u001B[0m\u001B[0m\n\u001B[0;32m----> 2\u001B[0;31m \u001B[0mbar_set2\u001B[0m\u001B[0;34m.\u001B[0m\u001B[0mfind_optimal_stimulus\u001B[0m\u001B[0;34m(\u001B[0m\u001B[0mmodel\u001B[0m\u001B[0;34m,\u001B[0m \u001B[0mdata_key\u001B[0m\u001B[0;34m,\u001B[0m \u001B[0munit_idx\u001B[0m\u001B[0;34m)\u001B[0m\u001B[0;34m\u001B[0m\u001B[0;34m\u001B[0m\u001B[0m\n\u001B[0m",
      "\u001B[0;32m/notebooks/insilico-stimuli/insilico_stimuli/stimuli.py\u001B[0m in \u001B[0;36mfind_optimal_stimulus\u001B[0;34m(self, model, data_key, unit_idx, total_trials)\u001B[0m\n\u001B[1;32m    417\u001B[0m         \"\"\"\n\u001B[1;32m    418\u001B[0m         \u001B[0;32mif\u001B[0m \u001B[0;32mnot\u001B[0m \u001B[0mhasattr\u001B[0m\u001B[0;34m(\u001B[0m\u001B[0mself\u001B[0m\u001B[0;34m,\u001B[0m \u001B[0;34m\"auto_params\"\u001B[0m\u001B[0;34m)\u001B[0m\u001B[0;34m:\u001B[0m\u001B[0;34m\u001B[0m\u001B[0;34m\u001B[0m\u001B[0m\n\u001B[0;32m--> 419\u001B[0;31m             raise TypeError(\"find_optimal_stimulus search method only supports input parameters from module \"\n\u001B[0m\u001B[1;32m    420\u001B[0m                             \"parameters.py\")\n\u001B[1;32m    421\u001B[0m \u001B[0;34m\u001B[0m\u001B[0m\n",
      "\u001B[0;31mTypeError\u001B[0m: find_optimal_stimulus search method only supports input parameters from module parameters.py"
     ]
    }
   ],
   "source": [
    "# search methods should only be supported for objects of parameters.py\n",
    "bar_set2.find_optimal_stimulus(model, data_key, unit_idx)"
   ]
  },
  {
   "cell_type": "code",
   "execution_count": 13,
   "metadata": {},
   "outputs": [],
   "source": [
    "# FiniteSelection -> bar_set3\n",
    "np.random.seed(None)\n",
    "locations    = FiniteSelection([[20, 20], [20, 20]])\n",
    "lengths      = FiniteSelection([5.0, 7.0], n=4, pmf=[0.05, 0.95])\n",
    "widths       = FiniteSelection([2.0, 3.0])\n",
    "contrasts    = FiniteSelection([-1, 1]) \n",
    "orientations = FiniteSelection([0.0, np.pi/4, np.pi/2]) \n",
    "grey_levels  = FiniteSelection([0.0, 0.5])\n",
    "\n",
    "# class object\n",
    "bar_set3 = BarsSet(canvas_size=canvas_size,\n",
    "                   locations=locations,\n",
    "                   lengths=lengths,\n",
    "                   widths=widths,\n",
    "                   contrasts=contrasts,\n",
    "                   orientations=orientations,\n",
    "                   grey_levels=grey_levels)"
   ]
  },
  {
   "cell_type": "code",
   "execution_count": 14,
   "metadata": {},
   "outputs": [
    {
     "name": "stdout",
     "output_type": "stream",
     "text": [
      "[41, 41]\n",
      "[[20, 20]]\n",
      "[7.0, 7.0, 7.0, 7.0]\n",
      "[2.0]\n",
      "[1]\n",
      "[1.5707963267948966]\n",
      "[0.0]\n",
      "[-1, 1]\n"
     ]
    }
   ],
   "source": [
    "print(bar_set3.canvas_size)\n",
    "print(bar_set3.locations)\n",
    "print(bar_set3.lengths)\n",
    "print(bar_set3.widths)\n",
    "print(bar_set3.contrasts)\n",
    "print(bar_set3.orientations)\n",
    "print(bar_set3.grey_levels)\n",
    "print(bar_set3.pixel_boundaries)"
   ]
  },
  {
   "cell_type": "code",
   "execution_count": 15,
   "metadata": {},
   "outputs": [],
   "source": [
    "# UniformRange -> bar_set4\n",
    "np.random.seed(None)\n",
    "locations    = UniformRange([[10, 30], [10, 30]])\n",
    "lengths      = UniformRange([10.0, 20.0])\n",
    "widths       = UniformRange([4.0, 9.0])\n",
    "contrasts    = UniformRange([-1.0, 1.0]) \n",
    "orientations = UniformRange([0.0, np.pi/2]) \n",
    "grey_levels  = FiniteParameter([0.0])\n",
    "\n",
    "# class object\n",
    "bar_set4 = BarsSet(canvas_size=canvas_size,\n",
    "                   locations=locations,\n",
    "                   lengths=lengths,\n",
    "                   widths=widths,\n",
    "                   contrasts=contrasts,\n",
    "                   orientations=orientations,\n",
    "                   grey_levels=grey_levels)"
   ]
  },
  {
   "cell_type": "code",
   "execution_count": 16,
   "metadata": {},
   "outputs": [
    {
     "name": "stdout",
     "output_type": "stream",
     "text": [
      "Samples: [41, 41] [[16.691971517029902, 14.422915612002909]] [16.726726181047443] [6.257934810952241] [0.5718469998373339] [1.2304174368063039] [0.0] [-1, 1]\n",
      "Ranges: [[10, 30], [10, 30]] [10.0, 20.0] [4.0, 9.0] [-1.0, 1.0] [0.0, 1.5707963267948966]\n"
     ]
    }
   ],
   "source": [
    "print(\"Samples:\", bar_set4.canvas_size, bar_set4.locations, bar_set4.lengths, bar_set4.widths, bar_set4.contrasts, bar_set4.orientations, bar_set4.grey_levels, bar_set4.pixel_boundaries)\n",
    "print(\"Ranges:\", bar_set4.locations_range, bar_set4.lengths_range, bar_set4.widths_range, bar_set4.contrasts_range, bar_set4.orientations_range)"
   ]
  },
  {
   "cell_type": "code",
   "execution_count": 17,
   "metadata": {},
   "outputs": [
    {
     "data": {
      "image/png": "[encoded data removed]",
      "text/plain": [
       "<Figure size 432x288 with 4 Axes>"
      ]
     },
     "metadata": {
      "image/png": {
       "height": 279,
       "width": 330
      },
      "needs_background": "light"
     },
     "output_type": "display_data"
    }
   ],
   "source": [
    "plt.subplot(221)\n",
    "plt.imshow(bar_set1.stimulus_from_idx(0), cmap=\"gray\", vmin=-1, vmax=1)\n",
    "plt.title(\"FiniteParameter\")\n",
    "\n",
    "plt.subplot(222)\n",
    "plt.imshow(bar_set2.stimulus_from_idx(0), cmap=\"gray\", vmin=-1, vmax=1)\n",
    "plt.title(\"list\")\n",
    "\n",
    "plt.subplot(223)\n",
    "plt.imshow(bar_set3.stimulus_from_idx(0), cmap=\"gray\", vmin=-1, vmax=1)\n",
    "plt.title(\"FiniteSelection\")\n",
    "\n",
    "plt.subplot(224)\n",
    "plt.imshow(bar_set4.stimulus_from_idx(0), cmap=\"gray\", vmin=-1, vmax=1)\n",
    "plt.title(\"UniformRange\")\n",
    "\n",
    "plt.tight_layout()"
   ]
  },
  {
   "cell_type": "code",
   "execution_count": null,
   "metadata": {},
   "outputs": [],
   "source": [
    "best_bar4_params, best_bar4_values = bar_set4.find_optimal_stimulus(model=model, data_key=data_key, unit_idx=unit_idx)"
   ]
  },
  {
   "cell_type": "code",
   "execution_count": 19,
   "metadata": {},
   "outputs": [],
   "source": [
    "bar4_stim_opt = bar_set4.get_image_from_params(best_bar4_params)"
   ]
  },
  {
   "cell_type": "code",
   "execution_count": 20,
   "metadata": {},
   "outputs": [
    {
     "data": {
      "text/plain": [
       "<matplotlib.image.AxesImage at 0x7fc8f0316f90>"
      ]
     },
     "execution_count": 20,
     "metadata": {},
     "output_type": "execute_result"
    },
    {
     "data": {
      "image/png": "[encoded data removed]",
      "text/plain": [
       "<Figure size 432x288 with 1 Axes>"
      ]
     },
     "metadata": {
      "image/png": {
       "height": 249,
       "width": 255
      },
      "needs_background": "light"
     },
     "output_type": "display_data"
    }
   ],
   "source": [
    "plt.imshow(bar4_stim_opt, cmap=\"gray\", vmin=-1, vmax=1)"
   ]
  },
  {
   "cell_type": "code",
   "execution_count": 21,
   "metadata": {},
   "outputs": [
    {
     "name": "stdout",
     "output_type": "stream",
     "text": [
      "{'location_width': 19, 'location_height': 30, 'length': 17.172103188309897, 'width': 8.74147633838519, 'contrast': -1.0, 'orientation': 0.0, 'grey_level': 0.0}\n"
     ]
    }
   ],
   "source": [
    "print(best_bar4_params)"
   ]
  },
  {
   "cell_type": "markdown",
   "metadata": {},
   "source": [
    "# Gabor class"
   ]
  },
  {
   "cell_type": "code",
   "execution_count": 22,
   "metadata": {},
   "outputs": [],
   "source": [
    "# case 0: list class -> gabor_set0\n",
    "\n",
    "# Choose the input parameters\n",
    "canvas_size         = [w, h]\n",
    "sizes               = [10.0, 20.0]\n",
    "spatial_frequencies = [1/20, 1/5]\n",
    "contrasts           = [0.5, 0.75, 1.0]\n",
    "grey_levels         = [0.0]\n",
    "eccentricities      = [0.0, 0.9]\n",
    "locations           = [[25.0, 30.0]]\n",
    "orientations        = [val * (np.pi) / 8 for val in range(0, 8)]  \n",
    "phases              = [val * (2*np.pi) / 8 for val in range(0, 8)]\n",
    "\n",
    "# Instantiate the Gabor class\n",
    "gabor_set0 = GaborSet(canvas_size=canvas_size,\n",
    "                      sizes=sizes,\n",
    "                      spatial_frequencies=spatial_frequencies,\n",
    "                      contrasts=contrasts,\n",
    "                      orientations=orientations,\n",
    "                      phases=phases, \n",
    "                      grey_levels=grey_levels,\n",
    "                      eccentricities=eccentricities,\n",
    "                      locations=locations,\n",
    "                      relative_sf=False)"
   ]
  },
  {
   "cell_type": "code",
   "execution_count": 23,
   "metadata": {},
   "outputs": [
    {
     "ename": "AttributeError",
     "evalue": "'GaborSet' object has no attribute 'auto_params'",
     "output_type": "error",
     "traceback": [
      "\u001B[0;31m---------------------------------------------------------------------------\u001B[0m",
      "\u001B[0;31mAttributeError\u001B[0m                            Traceback (most recent call last)",
      "\u001B[0;32m<ipython-input-23-fde4c14fe46d>\u001B[0m in \u001B[0;36m<module>\u001B[0;34m\u001B[0m\n\u001B[1;32m      1\u001B[0m \u001B[0;31m# the attribute 'auto_params' should not exist for stimulus sets initialized with at least one list\u001B[0m\u001B[0;34m\u001B[0m\u001B[0;34m\u001B[0m\u001B[0;34m\u001B[0m\u001B[0m\n\u001B[0;32m----> 2\u001B[0;31m \u001B[0mgabor_set0\u001B[0m\u001B[0;34m.\u001B[0m\u001B[0mauto_params\u001B[0m\u001B[0;34m\u001B[0m\u001B[0;34m\u001B[0m\u001B[0m\n\u001B[0m",
      "\u001B[0;31mAttributeError\u001B[0m: 'GaborSet' object has no attribute 'auto_params'"
     ]
    }
   ],
   "source": [
    "# the attribute 'auto_params' should not exist for stimulus sets initialized with at least one list \n",
    "gabor_set0.auto_params"
   ]
  },
  {
   "cell_type": "code",
   "execution_count": 24,
   "metadata": {},
   "outputs": [],
   "source": [
    "# case 1: FiniteParameter class -> gabor_set1\n",
    "\n",
    "# Choose the input parameters\n",
    "canvas_size         = [w, h]\n",
    "sizes               = FiniteParameter([10.0, 20.0])\n",
    "spatial_frequencies = FiniteParameter([1/20, 1/5])\n",
    "contrasts           = FiniteParameter([0.5, 0.75, 1.0])\n",
    "grey_levels         = FiniteParameter([0.0])\n",
    "eccentricities      = FiniteParameter([0.0, 0.9])\n",
    "locations           = FiniteParameter([[25.0, 30.0]])\n",
    "\n",
    "orientation_values = [val * (np.pi) / 8 for val in range(0, 8)]  \n",
    "orientations = FiniteParameter(orientation_values)\n",
    "\n",
    "phase_values = [val * (2*np.pi) / 8 for val in range(0, 8)]\n",
    "phases = FiniteParameter(phase_values)"
   ]
  },
  {
   "cell_type": "code",
   "execution_count": 25,
   "metadata": {},
   "outputs": [],
   "source": [
    "# Instantiate the Gabor class\n",
    "gabor_set1 = GaborSet(canvas_size=canvas_size,\n",
    "                      sizes=sizes,\n",
    "                      spatial_frequencies=spatial_frequencies,\n",
    "                      contrasts=contrasts,\n",
    "                      orientations=orientations,\n",
    "                      phases=phases, \n",
    "                      grey_levels=grey_levels,\n",
    "                      eccentricities=eccentricities,\n",
    "                      locations=locations,\n",
    "                      relative_sf=False)"
   ]
  },
  {
   "cell_type": "code",
   "execution_count": 26,
   "metadata": {},
   "outputs": [
    {
     "data": {
      "text/plain": [
       "{'self': <insilico_stimuli.stimuli.GaborSet at 0x7fc8f037ee10>,\n",
       " 'canvas_size': [41, 41],\n",
       " 'locations': <insilico_stimuli.parameters.FiniteParameter at 0x7fc8f032c350>,\n",
       " 'sizes': <insilico_stimuli.parameters.FiniteParameter at 0x7fc8f02914d0>,\n",
       " 'spatial_frequencies': <insilico_stimuli.parameters.FiniteParameter at 0x7fc8f0291210>,\n",
       " 'contrasts': <insilico_stimuli.parameters.FiniteParameter at 0x7fc8f032c110>,\n",
       " 'orientations': <insilico_stimuli.parameters.FiniteParameter at 0x7fc8f032c190>,\n",
       " 'phases': <insilico_stimuli.parameters.FiniteParameter at 0x7fc8f032c5d0>,\n",
       " 'grey_levels': <insilico_stimuli.parameters.FiniteParameter at 0x7fc8f032cf90>,\n",
       " 'eccentricities': <insilico_stimuli.parameters.FiniteParameter at 0x7fc8f032c3d0>,\n",
       " 'pixel_boundaries': None,\n",
       " 'relative_sf': False}"
      ]
     },
     "execution_count": 26,
     "metadata": {},
     "output_type": "execute_result"
    }
   ],
   "source": [
    "gabor_set1.arg_dict"
   ]
  },
  {
   "cell_type": "code",
   "execution_count": 27,
   "metadata": {},
   "outputs": [
    {
     "data": {
      "text/plain": [
       "{'location_width': {'name': 'location_width', 'type': 'fixed', 'value': 25.0},\n",
       " 'location_height': {'name': 'location_height',\n",
       "  'type': 'fixed',\n",
       "  'value': 30.0},\n",
       " 'size': {'name': 'size', 'type': 'choice', 'values': [10.0, 20.0]},\n",
       " 'spatial_frequency': {'name': 'spatial_frequency',\n",
       "  'type': 'choice',\n",
       "  'values': [0.05, 0.2]},\n",
       " 'contrast': {'name': 'contrast',\n",
       "  'type': 'choice',\n",
       "  'values': [0.5, 0.75, 1.0]},\n",
       " 'orientation': {'name': 'orientation',\n",
       "  'type': 'choice',\n",
       "  'values': [0.0,\n",
       "   0.39269908169872414,\n",
       "   0.7853981633974483,\n",
       "   1.1780972450961724,\n",
       "   1.5707963267948966,\n",
       "   1.9634954084936207,\n",
       "   2.356194490192345,\n",
       "   2.748893571891069]},\n",
       " 'phase': {'name': 'phase',\n",
       "  'type': 'choice',\n",
       "  'values': [0.0,\n",
       "   0.7853981633974483,\n",
       "   1.5707963267948966,\n",
       "   2.356194490192345,\n",
       "   3.141592653589793,\n",
       "   3.9269908169872414,\n",
       "   4.71238898038469,\n",
       "   5.497787143782138]},\n",
       " 'gamma': {'name': 'gamma',\n",
       "  'type': 'choice',\n",
       "  'values': [1.0, 0.18999999999999995]},\n",
       " 'grey_level': {'name': 'grey_level', 'type': 'fixed', 'value': 0.0}}"
      ]
     },
     "execution_count": 27,
     "metadata": {},
     "output_type": "execute_result"
    }
   ],
   "source": [
    "gabor_set1.auto_params"
   ]
  },
  {
   "cell_type": "code",
   "execution_count": null,
   "metadata": {},
   "outputs": [],
   "source": [
    "# Find the best among all defined gabor images (via Bayesian Search), for one specific model neuron\n",
    "unit_idx = 27\n",
    "best_gabor1_params_bayes, values_gabor1_bayes = gabor_set1.find_optimal_stimulus(model = model, \n",
    "                                                                                 data_key = data_key,\n",
    "                                                                                 unit_idx = unit_idx,\n",
    "                                                                                 total_trials = total_trials)"
   ]
  },
  {
   "cell_type": "code",
   "execution_count": null,
   "metadata": {},
   "outputs": [],
   "source": [
    "# best gabor for all model neurons\n",
    "best_gabor1_params_bayes = []\n",
    "values_gabor1_bayes = []\n",
    "for unit in range(0, n_units):\n",
    "    best_params, values = gabor_set1.find_optimal_stimulus(model = model, \n",
    "                                                           data_key = data_key,\n",
    "                                                           unit_idx = unit, \n",
    "                                                           total_trials = total_trials)\n",
    "    best_gabor1_params_bayes.append(best_params)\n",
    "    values_gabor1_bayes.append(values)"
   ]
  },
  {
   "cell_type": "code",
   "execution_count": 86,
   "metadata": {},
   "outputs": [
    {
     "name": "stdout",
     "output_type": "stream",
     "text": [
      "({'activation': 1.4887889623641968}, {'activation': {'activation': 0.0}})\n"
     ]
    }
   ],
   "source": [
    "print(values_gabor1_bayes[0])"
   ]
  },
  {
   "cell_type": "code",
   "execution_count": 90,
   "metadata": {},
   "outputs": [
    {
     "data": {
      "text/plain": [
       "Text(0.5, 1.0, 'Gabor from Bayes search with activation 1.49')"
      ]
     },
     "execution_count": 90,
     "metadata": {},
     "output_type": "execute_result"
    },
    {
     "data": {
      "image/png": "[encoded data removed]",
      "text/plain": [
       "<Figure size 432x288 with 1 Axes>"
      ]
     },
     "metadata": {
      "image/png": {
       "height": 263,
       "width": 290
      },
      "needs_background": "light"
     },
     "output_type": "display_data"
    }
   ],
   "source": [
    "plt.imshow(gabor_set1.get_image_from_params(best_gabor1_params_bayes[0]), cmap=\"gray\", vmin=-1, vmax=1)\n",
    "plt.title('Gabor from Bayes search with activation {}'.format(round(values_gabor1_bayes[0][0]['activation'], 2)))"
   ]
  },
  {
   "cell_type": "code",
   "execution_count": 31,
   "metadata": {},
   "outputs": [],
   "source": [
    "# Find the best among all defined gabor images (via BruteForce Search)\n",
    "best_gabor1_params_bf, values_gabor1_bf = gabor_set1.find_optimal_stimulus_bruteforce(model = model, \n",
    "                                                                                      data_key = data_key, \n",
    "                                                                                      batch_size = 100, \n",
    "                                                                                      return_activations = False, \n",
    "                                                                                      unit_idx = None,\n",
    "                                                                                      plotflag = False)"
   ]
  },
  {
   "cell_type": "code",
   "execution_count": 76,
   "metadata": {},
   "outputs": [
    {
     "name": "stdout",
     "output_type": "stream",
     "text": [
      "(1536, 29)\n"
     ]
    }
   ],
   "source": [
    "print(values_gabor1_bf.shape)"
   ]
  },
  {
   "cell_type": "code",
   "execution_count": 62,
   "metadata": {},
   "outputs": [],
   "source": [
    "# get best_gabor1_params_bf in a format, where we can use the method get_image_from_params to generate the image\n",
    "par0_bf = best_gabor1_params_bf[0].copy()\n",
    "img_par0_bf = gabor_set1.stimulus(**par0_bf)"
   ]
  },
  {
   "cell_type": "code",
   "execution_count": 80,
   "metadata": {},
   "outputs": [
    {
     "data": {
      "text/plain": [
       "Text(0.5, 1.0, 'Gabor from BF search with activation 5.1')"
      ]
     },
     "execution_count": 80,
     "metadata": {},
     "output_type": "execute_result"
    },
    {
     "data": {
      "image/png": "[encoded data removed]",
      "text/plain": [
       "<Figure size 432x288 with 1 Axes>"
      ]
     },
     "metadata": {
      "image/png": {
       "height": 263,
       "width": 266
      },
      "needs_background": "light"
     },
     "output_type": "display_data"
    }
   ],
   "source": [
    "plt.imshow(img_par0_bf, cmap=\"gray\", vmin=-1, vmax=1)\n",
    "plt.title('Gabor from BF search with activation {}'.format(np.round(np.max(values_gabor1_bf[0]), 2)))"
   ]
  },
  {
   "cell_type": "code",
   "execution_count": 64,
   "metadata": {},
   "outputs": [],
   "source": [
    "# try different types of input arguments (hybrid example with some \"finite\" and some \"infinite\" parameter sets)\n",
    "canvas_size         = [w, h]\n",
    "sizes               = UniformRange([10.0, 40.0])\n",
    "spatial_frequencies = UniformRange([1/40, 1/5])\n",
    "contrasts           = FiniteParameter([0.5, 0.75, 1.0])\n",
    "orientations        = UniformRange([0.0, np.pi])\n",
    "phases              = UniformRange([0.0, 2*np.pi])\n",
    "grey_levels         = FiniteParameter([0.0])\n",
    "eccentricities      = UniformRange([0.0, 0.9])\n",
    "\n",
    "# search on every pixel except the ones too far at the image corners\n",
    "locs = [[float(w), float(h)] for w in range(0 + 8, 41 - 8)\n",
    "               for h in range(0 + 8, 41 - 8)]\n",
    "locations = FiniteParameter(locs)"
   ]
  },
  {
   "cell_type": "code",
   "execution_count": null,
   "metadata": {},
   "outputs": [],
   "source": [
    "# do Bayesian Search again with new parameter set\n",
    "\n",
    "gabor_set2 = GaborSet(canvas_size=canvas_size,\n",
    "                      sizes=sizes,\n",
    "                      spatial_frequencies=spatial_frequencies,\n",
    "                      contrasts=contrasts,\n",
    "                      orientations=orientations,\n",
    "                      phases=phases, \n",
    "                      grey_levels=grey_levels,\n",
    "                      eccentricities=eccentricities,\n",
    "                      locations=locations,\n",
    "                      relative_sf=False)\n",
    "\n",
    "# for all model neurons\n",
    "best_gabor2_params_list = []\n",
    "values_gabor2_list = []\n",
    "for unit in range(0, n_units):\n",
    "    best_params, values = gabor_set2.find_optimal_stimulus(model = model, \n",
    "                                                           data_key = data_key,\n",
    "                                                           unit_idx = unit, \n",
    "                                                           total_trials = total_trials)\n",
    "    best_gabor2_params_list.append(best_params)\n",
    "    values_gabor2_list.append(values)"
   ]
  },
  {
   "cell_type": "code",
   "execution_count": 89,
   "metadata": {},
   "outputs": [
    {
     "data": {
      "text/plain": [
       "Text(0.5, 1.0, 'Gabor from Bayes search with activation 1.48')"
      ]
     },
     "execution_count": 89,
     "metadata": {},
     "output_type": "execute_result"
    },
    {
     "data": {
      "image/png": "[encoded data removed]",
      "text/plain": [
       "<Figure size 432x288 with 1 Axes>"
      ]
     },
     "metadata": {
      "image/png": {
       "height": 263,
       "width": 290
      },
      "needs_background": "light"
     },
     "output_type": "display_data"
    }
   ],
   "source": [
    "gabor2_stim = gabor_set2.get_image_from_params(best_gabor2_params_list[0])\n",
    "plt.imshow(gabor2_stim, cmap=\"gray\", vmin=-1, vmax=1)\n",
    "plt.title('Gabor from Bayes search with activation {}'.format(round(values_gabor2_list[0][0]['activation'], 2)))"
   ]
  },
  {
   "cell_type": "code",
   "execution_count": 35,
   "metadata": {},
   "outputs": [
    {
     "data": {
      "text/plain": [
       "[0.5, 0.75, 1.0]"
      ]
     },
     "execution_count": 35,
     "metadata": {},
     "output_type": "execute_result"
    }
   ],
   "source": [
    "gabor_set1.contrasts"
   ]
  },
  {
   "cell_type": "markdown",
   "metadata": {},
   "source": [
    "# Plaids class"
   ]
  },
  {
   "cell_type": "code",
   "execution_count": 36,
   "metadata": {},
   "outputs": [
    {
     "data": {
      "text/plain": [
       "<matplotlib.image.AxesImage at 0x7fc924148090>"
      ]
     },
     "execution_count": 36,
     "metadata": {},
     "output_type": "execute_result"
    },
    {
     "data": {
      "image/png": "[encoded data removed]",
      "text/plain": [
       "<Figure size 432x288 with 1 Axes>"
      ]
     },
     "metadata": {
      "image/png": {
       "height": 249,
       "width": 255
      },
      "needs_background": "light"
     },
     "output_type": "display_data"
    }
   ],
   "source": [
    "# choose parameter configuration\n",
    "# Choose the input parameters\n",
    "canvas_size         = [w, h]\n",
    "locations           = FiniteParameter([[20.0, 20.0]])\n",
    "sizes               = FiniteParameter([20.0])\n",
    "spatial_frequencies = FiniteParameter([3/10, 4/10, 5/10])\n",
    "orientations        = FiniteParameter(list(np.arange(0, np.pi, np.pi/8)))\n",
    "phases              = FiniteParameter([0.0])\n",
    "contrasts_preferred = FiniteParameter([0.5, 0.75, 1.0])\n",
    "contrasts_overlap   = FiniteParameter([0.5, 0.75, 1.0])\n",
    "grey_levels         = FiniteParameter([0.0])\n",
    "angles              = FiniteParameter(list(np.arange(0, np.pi, np.pi/8)))\n",
    "\n",
    "# instantiate plaids class\n",
    "plaids_set1 = PlaidsGaborSet(canvas_size=canvas_size, \n",
    "                             locations=locations,\n",
    "                             sizes=sizes,\n",
    "                             spatial_frequencies=spatial_frequencies,\n",
    "                             orientations=orientations,\n",
    "                             phases=phases,\n",
    "                             contrasts_preferred=contrasts_preferred,\n",
    "                             contrasts_overlap=contrasts_overlap, \n",
    "                             grey_levels=grey_levels, \n",
    "                             angles=angles)\n",
    "\n",
    "# plot one of the generated images\n",
    "plt.imshow(plaids_set1.stimulus_from_idx(54), cmap='gray', vmin=-1, vmax=1)"
   ]
  },
  {
   "cell_type": "code",
   "execution_count": 37,
   "metadata": {},
   "outputs": [
    {
     "data": {
      "text/plain": [
       "<matplotlib.image.AxesImage at 0x7fc8f0296a90>"
      ]
     },
     "execution_count": 37,
     "metadata": {},
     "output_type": "execute_result"
    },
    {
     "data": {
      "image/png": "[encoded data removed]",
      "text/plain": [
       "<Figure size 432x288 with 1 Axes>"
      ]
     },
     "metadata": {
      "image/png": {
       "height": 249,
       "width": 255
      },
      "needs_background": "light"
     },
     "output_type": "display_data"
    }
   ],
   "source": [
    "# random plaid (sampled from finite selection, without pmf)\n",
    "canvas_size         = [w, h]\n",
    "locations           = FiniteSelection([[20,20]])\n",
    "sizes               = FiniteSelection([20])\n",
    "spatial_frequencies = FiniteSelection([3/10, 4/10, 5/10])\n",
    "orientations        = FiniteSelection(list(np.arange(0, np.pi, np.pi/8)))\n",
    "phases              = FiniteSelection(list(np.arange(0, 2*np.pi, np.pi/8)))\n",
    "contrasts_preferred = FiniteSelection([0.5, 0.75, 1.0])\n",
    "contrasts_overlap   = FiniteSelection([0.5, 0.75, 1.0])\n",
    "grey_levels         = FiniteSelection([0.0])\n",
    "angles              = FiniteSelection(list(np.arange(0, np.pi, np.pi/8)))\n",
    "\n",
    "# instantiate plaids class\n",
    "plaids_set2 = PlaidsGaborSet(canvas_size = [41, 41], \n",
    "                             locations=locations,\n",
    "                             sizes=sizes,\n",
    "                             spatial_frequencies=spatial_frequencies,\n",
    "                             orientations=orientations,\n",
    "                             phases=phases,\n",
    "                             contrasts_preferred=contrasts_preferred,\n",
    "                             contrasts_overlap=contrasts_overlap, \n",
    "                             grey_levels=grey_levels, \n",
    "                             angles=angles)\n",
    "\n",
    "# plot the generated image\n",
    "plt.imshow(plaids_set2.stimulus_from_idx(0), cmap='gray', vmin=-1, vmax=1)"
   ]
  },
  {
   "cell_type": "code",
   "execution_count": 38,
   "metadata": {},
   "outputs": [
    {
     "data": {
      "text/plain": [
       "<matplotlib.image.AxesImage at 0x7fc8f024a510>"
      ]
     },
     "execution_count": 38,
     "metadata": {},
     "output_type": "execute_result"
    },
    {
     "data": {
      "image/png": "[encoded data removed]",
      "text/plain": [
       "<Figure size 432x288 with 1 Axes>"
      ]
     },
     "metadata": {
      "image/png": {
       "height": 249,
       "width": 255
      },
      "needs_background": "light"
     },
     "output_type": "display_data"
    }
   ],
   "source": [
    "# random plaid (sampled from parameter range, without pseudo_inverse density)\n",
    "canvas_size         = [w, h]\n",
    "locations           = UniformRange([[8, 34], [8, 34]])\n",
    "sizes               = UniformRange([10, 40])\n",
    "spatial_frequencies = UniformRange([1/80, 4/10])\n",
    "orientations        = UniformRange([0, np.pi])\n",
    "phases              = UniformRange([0, 2*np.pi])\n",
    "contrasts_preferred = UniformRange([0.5, 1.0])\n",
    "contrasts_overlap   = UniformRange([0.5, 1.0])\n",
    "grey_levels         = FiniteParameter([0.0])\n",
    "angles              = UniformRange([0, np.pi])\n",
    "\n",
    "# instantiate plaids class\n",
    "plaids_set3 = PlaidsGaborSet(canvas_size = [41, 41], \n",
    "                             locations=locations,\n",
    "                             sizes=sizes,\n",
    "                             spatial_frequencies=spatial_frequencies,\n",
    "                             orientations=orientations,\n",
    "                             phases=phases,\n",
    "                             contrasts_preferred=contrasts_preferred,\n",
    "                             contrasts_overlap=contrasts_overlap, \n",
    "                             grey_levels=grey_levels, \n",
    "                             angles=angles)\n",
    "\n",
    "# plot the generated image\n",
    "plt.imshow(plaids_set3.stimulus_from_idx(0), cmap='gray', vmin=-1, vmax=1)"
   ]
  },
  {
   "cell_type": "markdown",
   "metadata": {},
   "source": [
    "# DiffOfGaussian class"
   ]
  },
  {
   "cell_type": "code",
   "execution_count": 39,
   "metadata": {},
   "outputs": [],
   "source": [
    "# UniformRange: DoG1\n",
    "canvas_size              = [w, h]\n",
    "locations                = UniformRange([[15.0, 35.0], [15.0, 35.0]])\n",
    "sizes                    = UniformRange([10.0, 35.0])\n",
    "sizes_scale_surround     = UniformRange([1.01, 2.0])\n",
    "contrasts                = UniformRange([-1.0, 1.0])\n",
    "contrasts_scale_surround = UniformRange([0.0, 1.0])\n",
    "grey_levels              = FiniteParameter([0.0])\n",
    "\n",
    "DoG1 = DiffOfGaussians(canvas_size=canvas_size, \n",
    "                       locations=locations,\n",
    "                       sizes=sizes,\n",
    "                       sizes_scale_surround=sizes_scale_surround,\n",
    "                       contrasts=contrasts,\n",
    "                       contrasts_scale_surround=contrasts_scale_surround, \n",
    "                       grey_levels=grey_levels)\n",
    "                       #pixel_boundaries=None)"
   ]
  },
  {
   "cell_type": "code",
   "execution_count": 40,
   "metadata": {},
   "outputs": [
    {
     "data": {
      "text/plain": [
       "{'self': <insilico_stimuli.stimuli.DiffOfGaussians at 0x7fc8ebe72450>,\n",
       " 'canvas_size': [41, 41],\n",
       " 'locations': <insilico_stimuli.parameters.UniformRange at 0x7fc8ebe54890>,\n",
       " 'sizes': <insilico_stimuli.parameters.UniformRange at 0x7fc8ebe54910>,\n",
       " 'sizes_scale_surround': <insilico_stimuli.parameters.UniformRange at 0x7fc8ebe54310>,\n",
       " 'contrasts': <insilico_stimuli.parameters.UniformRange at 0x7fc8ebe54f90>,\n",
       " 'contrasts_scale_surround': <insilico_stimuli.parameters.UniformRange at 0x7fc8ebe545d0>,\n",
       " 'grey_levels': <insilico_stimuli.parameters.FiniteParameter at 0x7fc8ebe54090>,\n",
       " 'pixel_boundaries': None}"
      ]
     },
     "execution_count": 40,
     "metadata": {},
     "output_type": "execute_result"
    }
   ],
   "source": [
    "DoG1.arg_dict"
   ]
  },
  {
   "cell_type": "code",
   "execution_count": null,
   "metadata": {},
   "outputs": [],
   "source": [
    "# find optimal DoG stimulus for the given infinite parameter set\n",
    "unit_idx=25\n",
    "best_DoG1_params, values_DoG1 = DoG1.find_optimal_stimulus(model = model, \n",
    "                                                           data_key = data_key,\n",
    "                                                           unit_idx = unit_idx,\n",
    "                                                           total_trials=30)"
   ]
  },
  {
   "cell_type": "code",
   "execution_count": 42,
   "metadata": {},
   "outputs": [
    {
     "name": "stdout",
     "output_type": "stream",
     "text": [
      "{'location_width': 29.03093222272758, 'location_height': 25.296296870520692, 'size': 24.358664949918435, 'size_scale_surround': 1.665670453595414, 'contrast': -0.9999999999999997, 'contrast_scale_surround': 0.7754721100399121, 'grey_level': 0.0}\n"
     ]
    }
   ],
   "source": [
    "print(best_DoG1_params)"
   ]
  },
  {
   "cell_type": "code",
   "execution_count": 43,
   "metadata": {},
   "outputs": [
    {
     "data": {
      "text/plain": [
       "<matplotlib.image.AxesImage at 0x7fc8f00d7490>"
      ]
     },
     "execution_count": 43,
     "metadata": {},
     "output_type": "execute_result"
    },
    {
     "data": {
      "image/png": "[encoded data removed]",
      "text/plain": [
       "<Figure size 432x288 with 1 Axes>"
      ]
     },
     "metadata": {
      "image/png": {
       "height": 249,
       "width": 255
      },
      "needs_background": "light"
     },
     "output_type": "display_data"
    }
   ],
   "source": [
    "plt.imshow(DoG1.get_image_from_params(best_DoG1_params), cmap=\"gray\", vmin=-1, vmax=1)"
   ]
  },
  {
   "cell_type": "markdown",
   "metadata": {},
   "source": [
    "# Center Surround class"
   ]
  },
  {
   "cell_type": "code",
   "execution_count": 44,
   "metadata": {},
   "outputs": [],
   "source": [
    "# Hybrid Parameter types\n",
    "canvas_size                = [w, h]\n",
    "locations                  = FiniteParameter([[20.0, 20.0]])  # fixed position\n",
    "sizes_total                = UniformRange([5.0, 13.0])        # variable size within range [5.0, 13.0]\n",
    "sizes_center               = FiniteParameter([1.0])           # only center\n",
    "sizes_surround             = FiniteParameter([1.1])           # only center\n",
    "contrasts_center           = FiniteSelection([0.75, 1.0])     # try 2 contrasts\n",
    "contrasts_surround         = FiniteParameter([0.75])          # only center\n",
    "orientations_center        = UniformRange([0.0, np.pi])       # variable orientation\n",
    "orientations_surround      = UniformRange([0.0, np.pi])       # center only\n",
    "spatial_frequencies_center = FiniteParameter([0.2])           # fixed spatial frequency\n",
    "phases_center              = UniformRange([0.0, 2*np.pi])     # variable center phase \n",
    "grey_levels                = FiniteParameter([0.0])           # fixed grey level\n",
    "\n",
    "# call center-surround\n",
    "cs1 = CenterSurround(canvas_size=canvas_size, \n",
    "                     locations=locations,\n",
    "                     sizes_total=sizes_total,\n",
    "                     sizes_center=sizes_center,\n",
    "                     sizes_surround=sizes_surround,\n",
    "                     contrasts_center=contrasts_center,\n",
    "                     contrasts_surround=contrasts_surround,\n",
    "                     orientations_center=orientations_center,\n",
    "                     orientations_surround=orientations_surround,\n",
    "                     spatial_frequencies_center=spatial_frequencies_center,\n",
    "                     phases_center=phases_center,\n",
    "                     grey_levels=grey_levels)\n",
    "               "
   ]
  },
  {
   "cell_type": "code",
   "execution_count": 45,
   "metadata": {},
   "outputs": [
    {
     "data": {
      "image/png": "[encoded data removed]",
      "text/plain": [
       "<Figure size 720x360 with 1 Axes>"
      ]
     },
     "metadata": {
      "image/png": {
       "height": 135,
       "width": 135
      },
      "needs_background": "light"
     },
     "output_type": "display_data"
    }
   ],
   "source": [
    "plt.figure(figsize=(10, 5))\n",
    "\n",
    "for i, img in enumerate(cs1.images()):\n",
    "    plt.subplot(2, 4, i + 1)\n",
    "    plt.imshow(img, cmap='gray', vmin=-1, vmax=1)\n",
    "    plt.axis('off')"
   ]
  },
  {
   "cell_type": "code",
   "execution_count": 46,
   "metadata": {},
   "outputs": [
    {
     "data": {
      "text/plain": [
       "{'self': <insilico_stimuli.stimuli.CenterSurround at 0x7fc92415fd90>,\n",
       " 'canvas_size': [41, 41],\n",
       " 'locations': <insilico_stimuli.parameters.FiniteParameter at 0x7fc924148f50>,\n",
       " 'sizes_total': <insilico_stimuli.parameters.UniformRange at 0x7fc924148ad0>,\n",
       " 'sizes_center': <insilico_stimuli.parameters.FiniteParameter at 0x7fc924148e90>,\n",
       " 'sizes_surround': <insilico_stimuli.parameters.FiniteParameter at 0x7fc924148a10>,\n",
       " 'contrasts_center': <insilico_stimuli.parameters.FiniteSelection at 0x7fc924148b90>,\n",
       " 'contrasts_surround': <insilico_stimuli.parameters.FiniteParameter at 0x7fc9241483d0>,\n",
       " 'orientations_center': <insilico_stimuli.parameters.UniformRange at 0x7fc924148410>,\n",
       " 'orientations_surround': <insilico_stimuli.parameters.UniformRange at 0x7fc9241488d0>,\n",
       " 'spatial_frequencies_center': <insilico_stimuli.parameters.FiniteParameter at 0x7fc92415fcd0>,\n",
       " 'phases_center': <insilico_stimuli.parameters.UniformRange at 0x7fc92415f810>,\n",
       " 'grey_levels': <insilico_stimuli.parameters.FiniteParameter at 0x7fc92415f3d0>,\n",
       " 'spatial_frequencies_surround': None,\n",
       " 'phases_surround': None,\n",
       " 'pixel_boundaries': None}"
      ]
     },
     "execution_count": 46,
     "metadata": {},
     "output_type": "execute_result"
    }
   ],
   "source": [
    "cs1.arg_dict"
   ]
  },
  {
   "cell_type": "code",
   "execution_count": null,
   "metadata": {},
   "outputs": [],
   "source": [
    "cs1_best_params, cs1_values = cs1.find_optimal_stimulus(model, data_key, unit_idx)"
   ]
  },
  {
   "cell_type": "code",
   "execution_count": 48,
   "metadata": {},
   "outputs": [
    {
     "data": {
      "text/plain": [
       "<matplotlib.image.AxesImage at 0x7fc8ebb7c6d0>"
      ]
     },
     "execution_count": 48,
     "metadata": {},
     "output_type": "execute_result"
    },
    {
     "data": {
      "image/png": "[encoded data removed]",
      "text/plain": [
       "<Figure size 432x288 with 1 Axes>"
      ]
     },
     "metadata": {
      "image/png": {
       "height": 249,
       "width": 255
      },
      "needs_background": "light"
     },
     "output_type": "display_data"
    }
   ],
   "source": [
    "# plot the image that activates the given unit the most from the given parameter set\n",
    "plt.imshow(cs1.get_image_from_params(cs1_best_params), cmap=\"gray\", vmin=-1, vmax=1)"
   ]
  },
  {
   "cell_type": "code",
   "execution_count": 49,
   "metadata": {},
   "outputs": [],
   "source": [
    "# managing to have a gap in between the center and surround \n",
    "canvas_size                = [w, h]\n",
    "locations                  = [[20.0, 20.0]]\n",
    "sizes_total                = [13.0]\n",
    "sizes_center               = FiniteParameter([0.7])\n",
    "sizes_surround             = [0.7]\n",
    "contrasts_center           = [0.0, 1.0]\n",
    "contrasts_surround         = [1.0]\n",
    "orientations_center        = [val * (np.pi) / 4 for val in range(0, 4)]\n",
    "orientations_surround      = [np.pi]\n",
    "spatial_frequencies_center = [0.2]\n",
    "phases_center              = UniformRange([0.0, 2*np.pi], n=2)\n",
    "grey_levels                = [0.0]\n",
    "\n",
    "# call center-surround\n",
    "cs2 = CenterSurround(canvas_size=canvas_size, \n",
    "                     locations=locations,\n",
    "                     sizes_total=sizes_total,\n",
    "                     sizes_center=sizes_center,\n",
    "                     sizes_surround=sizes_surround,\n",
    "                     contrasts_center=contrasts_center,\n",
    "                     contrasts_surround=contrasts_surround,\n",
    "                     orientations_center=orientations_center,\n",
    "                     orientations_surround=orientations_surround,\n",
    "                     spatial_frequencies_center=spatial_frequencies_center,\n",
    "                     phases_center=phases_center,\n",
    "                     grey_levels=grey_levels)\n",
    "               "
   ]
  },
  {
   "cell_type": "code",
   "execution_count": 50,
   "metadata": {},
   "outputs": [
    {
     "data": {
      "text/plain": [
       "{'self': <insilico_stimuli.stimuli.CenterSurround at 0x7fc8ebf594d0>,\n",
       " 'canvas_size': [41, 41],\n",
       " 'locations': [[20.0, 20.0]],\n",
       " 'sizes_total': [13.0],\n",
       " 'sizes_center': <insilico_stimuli.parameters.FiniteParameter at 0x7fc8ebf59f50>,\n",
       " 'sizes_surround': [0.7],\n",
       " 'contrasts_center': [0.0, 1.0],\n",
       " 'contrasts_surround': [1.0],\n",
       " 'orientations_center': [0.0,\n",
       "  0.7853981633974483,\n",
       "  1.5707963267948966,\n",
       "  2.356194490192345],\n",
       " 'orientations_surround': [3.141592653589793],\n",
       " 'spatial_frequencies_center': [0.2],\n",
       " 'phases_center': <insilico_stimuli.parameters.UniformRange at 0x7fc8ebf59950>,\n",
       " 'grey_levels': [0.0],\n",
       " 'spatial_frequencies_surround': None,\n",
       " 'phases_surround': None,\n",
       " 'pixel_boundaries': None}"
      ]
     },
     "execution_count": 50,
     "metadata": {},
     "output_type": "execute_result"
    }
   ],
   "source": [
    "cs2.arg_dict"
   ]
  },
  {
   "cell_type": "code",
   "execution_count": 51,
   "metadata": {},
   "outputs": [
    {
     "data": {
      "image/png": "[encoded data removed]",
      "text/plain": [
       "<Figure size 720x360 with 16 Axes>"
      ]
     },
     "metadata": {
      "image/png": {
       "height": 286,
       "width": 510
      },
      "needs_background": "light"
     },
     "output_type": "display_data"
    }
   ],
   "source": [
    "plt.figure(figsize=(10, 5))\n",
    "\n",
    "for i, img in enumerate(cs2.images()):\n",
    "    plt.subplot(4, 4, i + 1)\n",
    "    plt.imshow(img, cmap='gray', vmin=-1, vmax=1)\n",
    "    plt.axis('off')"
   ]
  },
  {
   "cell_type": "markdown",
   "metadata": {},
   "source": [
    "# PlaidsGrating class"
   ]
  },
  {
   "cell_type": "code",
   "execution_count": 52,
   "metadata": {},
   "outputs": [],
   "source": [
    "# FiniteParameter: plaid_grating1\n",
    "canvas_size          = [w, h]\n",
    "locations            = FiniteParameter([[20.0, 20.0]])\n",
    "sizes_total          = FiniteParameter([10.0])\n",
    "#spatial_frequencies  = FiniteParameter([0.3])\n",
    "spatial_frequencies  = FiniteParameter([0.1])\n",
    "orientations         = FiniteParameter([0.0])\n",
    "phases               = FiniteParameter([0.0])\n",
    "contrasts_preferred  = FiniteParameter([0.5, 0.75, 1.0])\n",
    "contrasts_overlap    = FiniteParameter([0.5, 0.75, 1.0])\n",
    "grey_levels          = FiniteParameter([0.0])\n",
    "angles               = FiniteParameter(list(np.arange(0, np.pi, np.pi/8)))\n",
    "#angles               = FiniteParameter([np.pi/2])\n",
    "\n",
    "plaid_grating1 = PlaidsGratingSet(canvas_size=canvas_size, \n",
    "                                  sizes_total=sizes_total,\n",
    "                                  locations=locations,\n",
    "                                  contrasts_preferred=contrasts_preferred,\n",
    "                                  contrasts_overlap=contrasts_overlap, \n",
    "                                  spatial_frequencies=spatial_frequencies,\n",
    "                                  orientations=orientations,\n",
    "                                  phases=phases,\n",
    "                                  grey_levels=grey_levels, \n",
    "                                  angles=angles,\n",
    "                                  #angles = None,\n",
    "                                  pixel_boundaries=None)"
   ]
  },
  {
   "cell_type": "code",
   "execution_count": 53,
   "metadata": {},
   "outputs": [],
   "source": [
    "# FiniteSelection: plaid_grating2\n",
    "canvas_size         = [w, h]\n",
    "locations           = FiniteSelection([[20,20]])\n",
    "sizes               = FiniteSelection([20])\n",
    "spatial_frequencies = FiniteSelection([3/10, 4/10, 5/10])\n",
    "orientations        = FiniteSelection(list(np.arange(0, np.pi, np.pi/8)))\n",
    "phases              = FiniteSelection(list(np.arange(0, 2*np.pi, np.pi/8)))\n",
    "contrasts_preferred = FiniteSelection([0.5, 0.75, 1.0])\n",
    "contrasts_overlap   = FiniteSelection([0.5, 0.75, 1.0])\n",
    "grey_levels         = FiniteSelection([0.0])\n",
    "angles              = FiniteSelection(list(np.arange(0, np.pi, np.pi/8)))\n",
    "\n",
    "plaid_grating2 = PlaidsGratingSet(canvas_size=canvas_size, \n",
    "                                  sizes_total=sizes_total,\n",
    "                                  locations=locations,\n",
    "                                  contrasts_preferred=contrasts_preferred,\n",
    "                                  contrasts_overlap=contrasts_overlap, \n",
    "                                  spatial_frequencies=spatial_frequencies,\n",
    "                                  orientations=orientations,\n",
    "                                  phases=phases,\n",
    "                                  grey_levels=grey_levels, \n",
    "                                  angles=angles,\n",
    "                                  pixel_boundaries=None)"
   ]
  },
  {
   "cell_type": "code",
   "execution_count": 54,
   "metadata": {},
   "outputs": [],
   "source": [
    "# UniformRange: plaid_grating3\n",
    "canvas_size         = [w, h]\n",
    "locations           = UniformRange([[8, 34], [8, 34]])\n",
    "sizes               = UniformRange([10, 40])\n",
    "spatial_frequencies = UniformRange([1/80, 4/10])\n",
    "orientations        = UniformRange([0, np.pi])\n",
    "phases              = UniformRange([0, 2*np.pi])\n",
    "contrasts_preferred = UniformRange([0.5, 1.0])\n",
    "contrasts_overlap   = UniformRange([0.5, 1.0])\n",
    "grey_levels         = FiniteParameter([0.0])\n",
    "angles              = UniformRange([0, np.pi])\n",
    "\n",
    "plaid_grating3 = PlaidsGratingSet(canvas_size=canvas_size, \n",
    "                                  sizes_total=sizes_total,\n",
    "                                  locations=locations,\n",
    "                                  contrasts_preferred=contrasts_preferred,\n",
    "                                  contrasts_overlap=contrasts_overlap, \n",
    "                                  spatial_frequencies=spatial_frequencies,\n",
    "                                  orientations=orientations,\n",
    "                                  phases=phases,\n",
    "                                  grey_levels=grey_levels, \n",
    "                                  angles=angles,\n",
    "                                  pixel_boundaries=None)"
   ]
  },
  {
   "cell_type": "code",
   "execution_count": 55,
   "metadata": {},
   "outputs": [
    {
     "name": "stdout",
     "output_type": "stream",
     "text": [
      "{'location': [20.0, 20.0], 'size_total': 10.0, 'contrast_preferred': 0.5, 'contrast_overlap': 0.5, 'spatial_frequency': 0.1, 'orientation': 0.0, 'phase': 0.0, 'angle': 0.0, 'grey_level': 0.0}\n"
     ]
    }
   ],
   "source": [
    "print(plaid_grating1.params_dict_from_idx(0))"
   ]
  },
  {
   "cell_type": "code",
   "execution_count": 56,
   "metadata": {},
   "outputs": [
    {
     "data": {
      "image/png": "[encoded data removed]",
      "text/plain": [
       "<Figure size 432x288 with 3 Axes>"
      ]
     },
     "metadata": {
      "image/png": {
       "height": 279,
       "width": 334
      },
      "needs_background": "light"
     },
     "output_type": "display_data"
    }
   ],
   "source": [
    "plt.subplot(221)\n",
    "plt.imshow(plaid_grating1.stimulus_from_idx(0), cmap='gray', vmin=-1, vmax=1)\n",
    "plt.title(\"plaid_grating1\")\n",
    "\n",
    "plt.subplot(222)\n",
    "plt.imshow(plaid_grating2.stimulus_from_idx(0), cmap='gray', vmin=-1, vmax=1)\n",
    "plt.title(\"plaid_grating2\")\n",
    "\n",
    "plt.subplot(223)\n",
    "plt.imshow(plaid_grating3.stimulus_from_idx(0), cmap='gray', vmin=-1, vmax=1)\n",
    "plt.title(\"plaid_grating3\")\n",
    "\n",
    "plt.tight_layout()"
   ]
  },
  {
   "cell_type": "code",
   "execution_count": null,
   "metadata": {},
   "outputs": [],
   "source": []
  },
  {
   "cell_type": "code",
   "execution_count": null,
   "metadata": {},
   "outputs": [],
   "source": []
  }
 ],
 "metadata": {
  "kernelspec": {
   "display_name": "Python 3",
   "language": "python",
   "name": "python3"
  },
  "language_info": {
   "codemirror_mode": {
    "name": "ipython",
    "version": 3
   },
   "file_extension": ".py",
   "mimetype": "text/x-python",
   "name": "python",
   "nbconvert_exporter": "python",
   "pygments_lexer": "ipython3",
   "version": "3.7.6"
  }
 },
 "nbformat": 4,
 "nbformat_minor": 4
}