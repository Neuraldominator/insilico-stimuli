{
 "cells": [
  {
   "cell_type": "code",
   "execution_count": 3,
   "metadata": {},
   "outputs": [
    {
     "name": "stdout",
     "output_type": "stream",
     "text": [
      "Connecting DKessler@134.2.168.16:3306\n"
     ]
    }
   ],
   "source": [
    "import datajoint as dj\n",
    "dj.config['database.host'] = '134.2.168.16'\n",
    "dj.config[\"enable_python_native_blobs\"] = True\n",
    "#dj.config[\"database.host\"] = '134.2.168.16'\n",
    "dj.config['schema_name'] = \"nnfabrik_monkey_mei\"\n",
    "schema = dj.schema(\"nnfabrik_monkey_mei\")\n",
    "\n",
    "import os\n",
    "from os import listdir\n",
    "from os.path import isfile, join\n",
    "\n",
    "import torch\n",
    "import numpy as np\n",
    "import pickle \n",
    "import time\n",
    "import matplotlib.pyplot as plt\n",
    "import seaborn as sns\n",
    "\n",
    "import nnfabrik\n",
    "from nnfabrik import main, builder\n",
    "from nnfabrik.main import *\n",
    "\n",
    "import nnvision\n",
    "from nnvision.tables.from_nnfabrik import TrainedModel\n",
    "from nnvision.tables.from_nnfabrik import DataInfo\n",
    "\n",
    "import insilico_stimuli\n",
    "from insilico_stimuli.stimuli import *\n",
    "from insilico_stimuli.parameters import *"
   ]
  },
  {
   "cell_type": "code",
   "execution_count": 4,
   "metadata": {},
   "outputs": [],
   "source": [
    "# nnfabrik main\n",
    "from nnvision.tables.main import MonkeyExperiment\n",
    "from nnvision.tables.from_mei import TrainedEnsembleModel, MEIMethod\n",
    "from featurevis.main import MEITemplate\n",
    "from nnvision.tables.measures import OracleScore\n",
    "\n",
    "@schema\n",
    "class MEI_update(MEITemplate):\n",
    "    trained_model_table = TrainedEnsembleModel\n",
    "    selector_table = MonkeyExperiment.Units"
   ]
  },
  {
   "cell_type": "code",
   "execution_count": 5,
   "metadata": {},
   "outputs": [],
   "source": [
    "# parameters\n",
    "dataset_hash='a737408da40cfedd036c2eb1b8a31ff1'\n",
    "ensemble_hash='e7a8d0b961ee37ffda0779bfed95f1cf'\n",
    "\n",
    "data_key='3631807112901'                   "
   ]
  },
  {
   "cell_type": "code",
   "execution_count": 6,
   "metadata": {},
   "outputs": [],
   "source": [
    "# get the model \n",
    "model_key = (TrainedModel * TrainedEnsembleModel.Member() & dict(ensemble_hash=ensemble_hash)).fetch(\"KEY\", limit=1, order_by=\"score DESC\")\n",
    "model = TrainedModel().load_model(model_key, include_dataloader=False)\n",
    "model.eval()\n",
    "\n",
    "# model readout coordinates from -1, 1 \n",
    "model_readout_pos = model.readout[data_key].grid  # needs to be converted to canvas size by min-max-normalization"
   ]
  },
  {
   "cell_type": "code",
   "execution_count": 7,
   "metadata": {},
   "outputs": [],
   "source": [
    "n_units = model.readout[data_key].outdims  # number of model neurons \n",
    "total_trials = 30                          # for optimization\n",
    "\n",
    "unit_idx = 27                              # arbitrary model neuron\n",
    "unit_id = 28\n",
    "\n",
    "# image dimensions:\n",
    "h, w = 41, 41"
   ]
  },
  {
   "cell_type": "markdown",
   "metadata": {},
   "source": [
    "# Toy Experiment Bar Stimulus (\"End-stopping\")"
   ]
  },
  {
   "cell_type": "code",
   "execution_count": 6,
   "metadata": {},
   "outputs": [],
   "source": [
    "unit_idx = 27\n",
    "\n",
    "# specify parameter set\n",
    "bar_set = BarsSet(canvas_size = [w, h], \n",
    "                  locations = UniformRange([[8.0, 32.0], [8.0, 32.0]]), \n",
    "                  lengths = FiniteParameter([float(val) for val in range(12, 30)]), \n",
    "                  widths = FiniteParameter([float(val) for val in range(4, 12)]), \n",
    "                  contrasts = UniformRange([-1.0, 1.0]), \n",
    "                  orientations = UniformRange([0.0, np.pi]), \n",
    "                  grey_levels = FiniteParameter([0.0]))\n"
   ]
  },
  {
   "cell_type": "code",
   "execution_count": null,
   "metadata": {},
   "outputs": [],
   "source": [
    "# Find optimal bar for given neuron\n",
    "params, vals = bar_set.find_optimal_stimulus(model, data_key, unit_idx)"
   ]
  },
  {
   "cell_type": "code",
   "execution_count": 8,
   "metadata": {},
   "outputs": [
    {
     "data": {
      "text/plain": [
       "<matplotlib.image.AxesImage at 0x7f70b8588910>"
      ]
     },
     "execution_count": 8,
     "metadata": {},
     "output_type": "execute_result"
    },
    {
     "data": {
      "image/png": "[encoded data removed]",
      "text/plain": [
       "<Figure size 432x288 with 1 Axes>"
      ]
     },
     "metadata": {
      "needs_background": "light"
     },
     "output_type": "display_data"
    }
   ],
   "source": [
    "# plot optimal bar stimulus\n",
    "img = bar_set.get_image_from_params(params)\n",
    "plt.imshow(img, cmap=\"gray\", vmin=-1, vmax=1)"
   ]
  },
  {
   "cell_type": "code",
   "execution_count": 9,
   "metadata": {},
   "outputs": [
    {
     "data": {
      "text/plain": [
       "{'location_width': 23.748755410313606,\n",
       " 'location_height': 26.0627828463912,\n",
       " 'contrast': -0.8826166577637196,\n",
       " 'orientation': 1.7652816330999783,\n",
       " 'length': 25.0,\n",
       " 'width': 6.0,\n",
       " 'grey_level': 0.0}"
      ]
     },
     "execution_count": 9,
     "metadata": {},
     "output_type": "execute_result"
    }
   ],
   "source": [
    "params"
   ]
  },
  {
   "cell_type": "code",
   "execution_count": 10,
   "metadata": {},
   "outputs": [],
   "source": [
    "# Tuning curves for bar length\n",
    "length_values = list(range(8, 36))[::2]\n",
    "\n",
    "bar_set_length = BarsSet(canvas_size = [w, h], \n",
    "                         locations = FiniteParameter([[params['location_width'], params['location_height']]]),\n",
    "                         lengths = FiniteParameter(length_values), \n",
    "                         widths = FiniteParameter([params['width']]), \n",
    "                         contrasts = FiniteParameter([params['contrast']]), \n",
    "                         orientations = FiniteParameter([params['orientation']]),  \n",
    "                         grey_levels = FiniteParameter([params['grey_level']])) \n"
   ]
  },
  {
   "cell_type": "code",
   "execution_count": 11,
   "metadata": {},
   "outputs": [],
   "source": [
    "# Plaids Experiment - Show images to model neurons\n",
    "\n",
    "activations_unit = np.array([])\n",
    "\n",
    "# show the stimuli with varying orientation to the model and store its response \n",
    "unit_name = \"unit_\" + str(unit_idx)\n",
    "for batch in bar_set_length.image_batches(batch_size=100):\n",
    "    images_batch = np.expand_dims(batch, axis=1)\n",
    "    images_batch = torch.tensor(images_batch).float()\n",
    "    activations_batch = model(images_batch, data_key=data_key).detach().numpy().squeeze()[:, unit_idx]\n",
    "    activations_unit = np.hstack([activations_unit, activations_batch])"
   ]
  },
  {
   "cell_type": "code",
   "execution_count": 12,
   "metadata": {},
   "outputs": [
    {
     "data": {
      "text/plain": [
       "Text(0.5, 1.0, 'Length Tuning - Bar Stimulus')"
      ]
     },
     "execution_count": 12,
     "metadata": {},
     "output_type": "execute_result"
    },
    {
     "data": {
      "image/png": "[encoded data removed]",
      "text/plain": [
       "<Figure size 432x288 with 1 Axes>"
      ]
     },
     "metadata": {
      "needs_background": "light"
     },
     "output_type": "display_data"
    }
   ],
   "source": [
    "# tuning curve\n",
    "plt.plot(length_values, activations_unit, '.-b')\n",
    "plt.ylabel(\"activations\")\n",
    "plt.xlabel('length in pxls')\n",
    "plt.title(\"Length Tuning - Bar Stimulus\")"
   ]
  },
  {
   "cell_type": "code",
   "execution_count": 13,
   "metadata": {},
   "outputs": [
    {
     "data": {
      "image/png": "[encoded data removed]",
      "text/plain": [
       "<Figure size 720x360 with 14 Axes>"
      ]
     },
     "metadata": {
      "needs_background": "light"
     },
     "output_type": "display_data"
    }
   ],
   "source": [
    "plt.figure(figsize=(10, 5))\n",
    "\n",
    "for i, img in enumerate(bar_set_length.images()):\n",
    "    plt.subplot(5, 4, i + 1)\n",
    "    plt.imshow(img, cmap='gray', vmin=-1, vmax=1)\n",
    "    plt.axis('off')"
   ]
  },
  {
   "cell_type": "code",
   "execution_count": null,
   "metadata": {},
   "outputs": [],
   "source": []
  }
 ],
 "metadata": {
  "kernelspec": {
   "display_name": "Python 3",
   "language": "python",
   "name": "python3"
  },
  "language_info": {
   "codemirror_mode": {
    "name": "ipython",
    "version": 3
   },
   "file_extension": ".py",
   "mimetype": "text/x-python",
   "name": "python",
   "nbconvert_exporter": "python",
   "pygments_lexer": "ipython3",
   "version": "3.7.6"
  }
 },
 "nbformat": 4,
 "nbformat_minor": 4
}
