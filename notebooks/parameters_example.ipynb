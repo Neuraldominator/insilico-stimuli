{
 "cells": [
  {
   "cell_type": "markdown",
   "metadata": {},
   "source": [
    "# Parameter class handling for calling the stimulus classes"
   ]
  },
  {
   "cell_type": "code",
   "execution_count": 1,
   "metadata": {},
   "outputs": [],
   "source": [
    "import numpy as np\n",
    "import matplotlib.pyplot as plt\n",
    "\n",
    "import insilico_stimuli\n",
    "from insilico_stimuli.stimuli import GaborSet, PlaidsGaborSet, DiffOfGaussians, CenterSurround\n",
    "from insilico_stimuli.parameters import *"
   ]
  },
  {
   "cell_type": "markdown",
   "metadata": {},
   "source": [
    "# Parameter class"
   ]
  },
  {
   "cell_type": "markdown",
   "metadata": {},
   "source": [
    "There are 4 classes in the module: `Parameter`, `FiniteSelection`, `FiniteParameter`, `UniformRange`."
   ]
  },
  {
   "cell_type": "code",
   "execution_count": 2,
   "metadata": {},
   "outputs": [
    {
     "name": "stdout",
     "output_type": "stream",
     "text": [
      "[-0.00879223]\n",
      "[-0.01, 0.01]\n"
     ]
    }
   ],
   "source": [
    "grey_level = Parameter([-1e-2, 1e-2])\n",
    "print(grey_level.sample())\n",
    "print(grey_level.range())"
   ]
  },
  {
   "cell_type": "markdown",
   "metadata": {},
   "source": [
    "# Finite Parameter class"
   ]
  },
  {
   "cell_type": "code",
   "execution_count": 3,
   "metadata": {},
   "outputs": [],
   "source": [
    "canvas_size = [41, 41]\n",
    "sizes = FiniteParameter([10, 20])\n",
    "spatial_frequencies = FiniteParameter([1/20, 1/10, 1/7.5, 1/5])\n",
    "contrasts = FiniteSelection([0.5, 0.75, 1.0], n=2)\n",
    "orientations = FiniteParameter([val/4 for val in range(0,4)])\n",
    "phases = FiniteParameter([val/4 for val in range(0,4)])\n",
    "grey_levels = FiniteParameter([-0.1])\n",
    "eccentricities = FiniteParameter([0.0, 0.9])\n",
    "locations = UniformRange([[10, 20], [20, 30]])"
   ]
  },
  {
   "cell_type": "code",
   "execution_count": 4,
   "metadata": {},
   "outputs": [
    {
     "data": {
      "text/plain": [
       "[0.5, 0.75, 1.0]"
      ]
     },
     "execution_count": 4,
     "metadata": {},
     "output_type": "execute_result"
    }
   ],
   "source": [
    "contrasts.values"
   ]
  },
  {
   "cell_type": "code",
   "execution_count": 5,
   "metadata": {},
   "outputs": [
    {
     "data": {
      "text/plain": [
       "[0.5, 0.75]"
      ]
     },
     "execution_count": 5,
     "metadata": {},
     "output_type": "execute_result"
    }
   ],
   "source": [
    "contrasts.sample()"
   ]
  },
  {
   "cell_type": "code",
   "execution_count": 6,
   "metadata": {},
   "outputs": [
    {
     "data": {
      "text/plain": [
       "[10, 20]"
      ]
     },
     "execution_count": 6,
     "metadata": {},
     "output_type": "execute_result"
    }
   ],
   "source": [
    "sizes.values"
   ]
  },
  {
   "cell_type": "code",
   "execution_count": 7,
   "metadata": {},
   "outputs": [
    {
     "ename": "AttributeError",
     "evalue": "'UniformRange' object has no attribute 'values'",
     "output_type": "error",
     "traceback": [
      "\u001b[0;31m---------------------------------------------------------------------------\u001b[0m",
      "\u001b[0;31mAttributeError\u001b[0m                            Traceback (most recent call last)",
      "\u001b[0;32m<ipython-input-7-3a63988a7811>\u001b[0m in \u001b[0;36m<module>\u001b[0;34m\u001b[0m\n\u001b[1;32m      1\u001b[0m \u001b[0;31m# UniformRange has no attribute values\u001b[0m\u001b[0;34m\u001b[0m\u001b[0;34m\u001b[0m\u001b[0;34m\u001b[0m\u001b[0m\n\u001b[0;32m----> 2\u001b[0;31m \u001b[0mlocations\u001b[0m\u001b[0;34m.\u001b[0m\u001b[0mvalues\u001b[0m\u001b[0;34m\u001b[0m\u001b[0;34m\u001b[0m\u001b[0m\n\u001b[0m",
      "\u001b[0;31mAttributeError\u001b[0m: 'UniformRange' object has no attribute 'values'"
     ]
    }
   ],
   "source": [
    "# UniformRange has no attribute values\n",
    "locations.values"
   ]
  },
  {
   "cell_type": "code",
   "execution_count": null,
   "metadata": {},
   "outputs": [],
   "source": [
    "locations.range"
   ]
  },
  {
   "cell_type": "code",
   "execution_count": 8,
   "metadata": {},
   "outputs": [
    {
     "data": {
      "text/plain": [
       "[[15.890228103421169, 29.329867887475345]]"
      ]
     },
     "execution_count": 8,
     "metadata": {},
     "output_type": "execute_result"
    }
   ],
   "source": [
    "locations.sample()"
   ]
  },
  {
   "cell_type": "code",
   "execution_count": 9,
   "metadata": {},
   "outputs": [
    {
     "data": {
      "text/plain": [
       "[0.0, 0.25, 0.5, 0.75]"
      ]
     },
     "execution_count": 9,
     "metadata": {},
     "output_type": "execute_result"
    }
   ],
   "source": [
    "orientations.values"
   ]
  },
  {
   "cell_type": "code",
   "execution_count": 10,
   "metadata": {},
   "outputs": [
    {
     "name": "stdout",
     "output_type": "stream",
     "text": [
      "[0.0, 0.75]\n"
     ]
    },
    {
     "ename": "NotImplementedError",
     "evalue": "sample method not supported for objects of type FiniteParameter.",
     "output_type": "error",
     "traceback": [
      "\u001b[0;31m---------------------------------------------------------------------------\u001b[0m",
      "\u001b[0;31mNotImplementedError\u001b[0m                       Traceback (most recent call last)",
      "\u001b[0;32m<ipython-input-10-49139d71dfb4>\u001b[0m in \u001b[0;36m<module>\u001b[0;34m\u001b[0m\n\u001b[1;32m      1\u001b[0m \u001b[0;31m# FiniteParameter has method range() but NO method sample()\u001b[0m\u001b[0;34m\u001b[0m\u001b[0;34m\u001b[0m\u001b[0;34m\u001b[0m\u001b[0m\n\u001b[1;32m      2\u001b[0m \u001b[0mprint\u001b[0m\u001b[0;34m(\u001b[0m\u001b[0morientations\u001b[0m\u001b[0;34m.\u001b[0m\u001b[0mrange\u001b[0m\u001b[0;34m(\u001b[0m\u001b[0;34m)\u001b[0m\u001b[0;34m)\u001b[0m\u001b[0;34m\u001b[0m\u001b[0;34m\u001b[0m\u001b[0m\n\u001b[0;32m----> 3\u001b[0;31m \u001b[0mprint\u001b[0m\u001b[0;34m(\u001b[0m\u001b[0morientations\u001b[0m\u001b[0;34m.\u001b[0m\u001b[0msample\u001b[0m\u001b[0;34m(\u001b[0m\u001b[0;34m)\u001b[0m\u001b[0;34m)\u001b[0m\u001b[0;34m\u001b[0m\u001b[0;34m\u001b[0m\u001b[0m\n\u001b[0m",
      "\u001b[0;32m/notebooks/insilico-stimuli/insilico_stimuli/parameters.py\u001b[0m in \u001b[0;36msample\u001b[0;34m(self)\u001b[0m\n\u001b[1;32m     65\u001b[0m \u001b[0;34m\u001b[0m\u001b[0m\n\u001b[1;32m     66\u001b[0m     \u001b[0;32mdef\u001b[0m \u001b[0msample\u001b[0m\u001b[0;34m(\u001b[0m\u001b[0mself\u001b[0m\u001b[0;34m)\u001b[0m\u001b[0;34m:\u001b[0m\u001b[0;34m\u001b[0m\u001b[0;34m\u001b[0m\u001b[0m\n\u001b[0;32m---> 67\u001b[0;31m         \u001b[0;32mraise\u001b[0m \u001b[0mNotImplementedError\u001b[0m\u001b[0;34m(\u001b[0m\u001b[0;34m'sample method not supported for objects of type FiniteParameter.'\u001b[0m\u001b[0;34m)\u001b[0m\u001b[0;34m\u001b[0m\u001b[0;34m\u001b[0m\u001b[0m\n\u001b[0m\u001b[1;32m     68\u001b[0m \u001b[0;34m\u001b[0m\u001b[0m\n\u001b[1;32m     69\u001b[0m \u001b[0;32mclass\u001b[0m \u001b[0mFiniteSelection\u001b[0m\u001b[0;34m(\u001b[0m\u001b[0mFiniteParameter\u001b[0m\u001b[0;34m)\u001b[0m\u001b[0;34m:\u001b[0m\u001b[0;34m\u001b[0m\u001b[0;34m\u001b[0m\u001b[0m\n",
      "\u001b[0;31mNotImplementedError\u001b[0m: sample method not supported for objects of type FiniteParameter."
     ]
    }
   ],
   "source": [
    "# FiniteParameter has method range() but NO method sample()\n",
    "print(orientations.range())\n",
    "print(orientations.sample())"
   ]
  },
  {
   "cell_type": "code",
   "execution_count": 11,
   "metadata": {},
   "outputs": [
    {
     "name": "stdout",
     "output_type": "stream",
     "text": [
      "True\n",
      "[10, 20]\n",
      "[10, 15, 20]\n"
     ]
    }
   ],
   "source": [
    "print(isinstance(sizes, FiniteParameter))\n",
    "print(sizes.values)\n",
    "\n",
    "sizes.values=[10, 15, 20]\n",
    "print(sizes.values)"
   ]
  },
  {
   "cell_type": "markdown",
   "metadata": {},
   "source": [
    "# Use the object parameters defined above to instantiate a Gabor class"
   ]
  },
  {
   "cell_type": "code",
   "execution_count": 12,
   "metadata": {},
   "outputs": [],
   "source": [
    "# use these finite parameters to generate parameter combinations for the gabor\n",
    "gabor_set = GaborSet(\n",
    "    canvas_size=canvas_size,\n",
    "    sizes=sizes,\n",
    "    spatial_frequencies=spatial_frequencies,\n",
    "    contrasts=contrasts,\n",
    "    orientations=orientations,\n",
    "    phases=phases, \n",
    "    grey_levels=grey_levels,\n",
    "    eccentricities=eccentricities,\n",
    "    locations=locations,\n",
    "    relative_sf=False)"
   ]
  },
  {
   "cell_type": "code",
   "execution_count": 13,
   "metadata": {},
   "outputs": [
    {
     "data": {
      "text/plain": [
       "{'location_width': {'name': 'location_width',\n",
       "  'type': 'range',\n",
       "  'bounds': [10, 20],\n",
       "  'log_scale': False},\n",
       " 'location_height': {'name': 'location_height',\n",
       "  'type': 'range',\n",
       "  'bounds': [20, 30],\n",
       "  'log_scale': False},\n",
       " 'size': {'name': 'size',\n",
       "  'type': 'choice',\n",
       "  'values': [10, 15, 20],\n",
       "  'log_scale': False},\n",
       " 'spatial_frequency': {'name': 'spatial_frequency',\n",
       "  'type': 'choice',\n",
       "  'values': [0.05, 0.1, 0.13333333333333333, 0.2],\n",
       "  'log_scale': False},\n",
       " 'contrast': {'name': 'contrast',\n",
       "  'type': 'choice',\n",
       "  'values': [0.75, 1.0],\n",
       "  'log_scale': False},\n",
       " 'orientation': {'name': 'orientation',\n",
       "  'type': 'choice',\n",
       "  'values': [0.0, 0.25, 0.5, 0.75],\n",
       "  'log_scale': False},\n",
       " 'phase': {'name': 'phase',\n",
       "  'type': 'choice',\n",
       "  'values': [0.0, 0.25, 0.5, 0.75],\n",
       "  'log_scale': False},\n",
       " 'gamma': {'name': 'gamma',\n",
       "  'type': 'choice',\n",
       "  'values': [1.0, 0.18999999999999995],\n",
       "  'log_scale': True},\n",
       " 'grey_level': {'name': 'grey_level', 'type': 'fixed', 'value': -0.1}}"
      ]
     },
     "execution_count": 13,
     "metadata": {},
     "output_type": "execute_result"
    }
   ],
   "source": [
    "gabor_set.auto_params"
   ]
  },
  {
   "cell_type": "code",
   "execution_count": 14,
   "metadata": {},
   "outputs": [
    {
     "name": "stdout",
     "output_type": "stream",
     "text": [
      "[[14.015139103335597, 22.129276611136294]]\n",
      "[[10, 20], [20, 30]]\n"
     ]
    }
   ],
   "source": [
    "print(gabor_set.locations)\n",
    "print(gabor_set.locations_range)"
   ]
  },
  {
   "cell_type": "code",
   "execution_count": 15,
   "metadata": {},
   "outputs": [
    {
     "name": "stdout",
     "output_type": "stream",
     "text": [
      "768\n"
     ]
    }
   ],
   "source": [
    "# number of different parameter combinations\n",
    "prod=1\n",
    "for entry in gabor_set.num_params():\n",
    "    prod *= entry\n",
    "    \n",
    "print(prod)"
   ]
  },
  {
   "cell_type": "code",
   "execution_count": 16,
   "metadata": {},
   "outputs": [
    {
     "data": {
      "text/plain": [
       "<matplotlib.image.AxesImage at 0x7f9ce15c4dd0>"
      ]
     },
     "execution_count": 16,
     "metadata": {},
     "output_type": "execute_result"
    },
    {
     "data": {
      "image/png": "[encoded data removed]",
      "text/plain": [
       "<Figure size 432x288 with 1 Axes>"
      ]
     },
     "metadata": {
      "needs_background": "light"
     },
     "output_type": "display_data"
    }
   ],
   "source": [
    "# show an arbitrary image\n",
    "plt.imshow(gabor_set.stimulus_from_idx(500), cmap='gray', vmin=-1, vmax=1)"
   ]
  },
  {
   "cell_type": "code",
   "execution_count": 17,
   "metadata": {},
   "outputs": [],
   "source": [
    "#gabor_set.find_opt_Gabor_bruteforce"
   ]
  },
  {
   "cell_type": "markdown",
   "metadata": {},
   "source": [
    "# UniformRange Parameter class (\"Infinite\")"
   ]
  },
  {
   "cell_type": "code",
   "execution_count": 18,
   "metadata": {},
   "outputs": [
    {
     "name": "stdout",
     "output_type": "stream",
     "text": [
      "[3.0198247528784106, 0.4616561714286523, 2.6938834907993456, 1.3065087556325952, 1.189150186674794, 1.0192998968328566, 0.8224756771707172, 0.2875785569226251, 0.6326869251573288, 2.3302704602386064]\n",
      "[0, 3.141592653589793]\n"
     ]
    }
   ],
   "source": [
    "orientations = UniformRange([0, np.pi])\n",
    "print(orientations.sample(n=10))\n",
    "print(orientations.range)"
   ]
  },
  {
   "cell_type": "markdown",
   "metadata": {},
   "source": [
    "# Finite Selection class"
   ]
  },
  {
   "cell_type": "code",
   "execution_count": 19,
   "metadata": {},
   "outputs": [
    {
     "name": "stdout",
     "output_type": "stream",
     "text": [
      "[0.         0.78539816 1.57079633 2.35619449 3.14159265 3.92699082\n",
      " 4.71238898 5.49778714]\n"
     ]
    }
   ],
   "source": [
    "del phases\n",
    "vals = np.arange(0, 2*np.pi, np.pi/4) \n",
    "pmf = [1/len(vals)]*len(vals)\n",
    "phases = FiniteSelection(vals, pmf=pmf, n=2)\n",
    "print(phases.values)"
   ]
  },
  {
   "cell_type": "code",
   "execution_count": 20,
   "metadata": {},
   "outputs": [
    {
     "data": {
      "text/plain": [
       "True"
      ]
     },
     "execution_count": 20,
     "metadata": {},
     "output_type": "execute_result"
    }
   ],
   "source": [
    "isinstance(phases.values, np.ndarray)"
   ]
  },
  {
   "cell_type": "code",
   "execution_count": 21,
   "metadata": {},
   "outputs": [
    {
     "name": "stdout",
     "output_type": "stream",
     "text": [
      "[1.5707963267948966, 2.356194490192345]\n",
      "[0.         0.78539816 1.57079633 2.35619449 3.14159265 3.92699082\n",
      " 4.71238898 5.49778714]\n",
      "[0.0, 5.497787143782138]\n"
     ]
    }
   ],
   "source": [
    "print(phases.sample())\n",
    "print(phases.values)\n",
    "print(phases.range)"
   ]
  },
  {
   "cell_type": "code",
   "execution_count": 22,
   "metadata": {},
   "outputs": [],
   "source": [
    "locations = FiniteSelection([[1,1],[2,2],[3,3]], n=5)"
   ]
  },
  {
   "cell_type": "code",
   "execution_count": 23,
   "metadata": {},
   "outputs": [
    {
     "data": {
      "text/plain": [
       "[[1, 1], [2, 2], [3, 3]]"
      ]
     },
     "execution_count": 23,
     "metadata": {},
     "output_type": "execute_result"
    }
   ],
   "source": [
    "locations.values"
   ]
  },
  {
   "cell_type": "code",
   "execution_count": 24,
   "metadata": {},
   "outputs": [
    {
     "data": {
      "text/plain": [
       "[0.3333333333333333, 0.3333333333333333, 0.3333333333333333]"
      ]
     },
     "execution_count": 24,
     "metadata": {},
     "output_type": "execute_result"
    }
   ],
   "source": [
    "locations.pmf"
   ]
  },
  {
   "cell_type": "code",
   "execution_count": 25,
   "metadata": {},
   "outputs": [
    {
     "data": {
      "text/plain": [
       "[[3, 3], [2, 2], [1, 1], [1, 1], [3, 3]]"
      ]
     },
     "execution_count": 25,
     "metadata": {},
     "output_type": "execute_result"
    }
   ],
   "source": [
    "locations.sample()"
   ]
  },
  {
   "cell_type": "markdown",
   "metadata": {},
   "source": [
    "# Plaids - FiniteParameter"
   ]
  },
  {
   "cell_type": "code",
   "execution_count": 34,
   "metadata": {},
   "outputs": [],
   "source": [
    "plaids_set = PlaidsGaborSet(canvas_size=[41, 41],\n",
    "                            locations=FiniteParameter([[20,20]]),\n",
    "                            sizes=FiniteParameter([20]),\n",
    "                            spatial_frequencies=FiniteParameter([0.2]),\n",
    "                            orientations=FiniteParameter([0.0]),\n",
    "                            phases=FiniteParameter([0.0]),\n",
    "                            contrasts_preferred=FiniteParameter([0.5, 0.75, 1.0]),\n",
    "                            contrasts_overlap=FiniteParameter([0.5, 0.75, 1.0]), \n",
    "                            grey_levels=FiniteParameter([0.0]), \n",
    "                            angles=FiniteParameter([np.pi/2])\n",
    "                           )"
   ]
  },
  {
   "cell_type": "code",
   "execution_count": 35,
   "metadata": {},
   "outputs": [
    {
     "name": "stdout",
     "output_type": "stream",
     "text": [
      "[[20, 20], 20, 0.2, 0.0, 0.0, 1.0, 1.0, 0.75, 1.5707963267948966, 0.0]\n"
     ]
    }
   ],
   "source": [
    "stim_idx = 7\n",
    "print(plaids_set.params_from_idx(stim_idx))"
   ]
  },
  {
   "cell_type": "code",
   "execution_count": 36,
   "metadata": {},
   "outputs": [
    {
     "data": {
      "text/plain": [
       "<matplotlib.image.AxesImage at 0x7f9cdf047b50>"
      ]
     },
     "execution_count": 36,
     "metadata": {},
     "output_type": "execute_result"
    },
    {
     "data": {
      "image/png": "[encoded data removed]",
      "text/plain": [
       "<Figure size 432x288 with 1 Axes>"
      ]
     },
     "metadata": {
      "needs_background": "light"
     },
     "output_type": "display_data"
    }
   ],
   "source": [
    "plt.imshow(plaids_set.stimulus_from_idx(stim_idx), cmap='gray', vmin=-1, vmax=1)"
   ]
  },
  {
   "cell_type": "markdown",
   "metadata": {},
   "source": [
    "# Plaids - FiniteSelection"
   ]
  },
  {
   "cell_type": "code",
   "execution_count": 38,
   "metadata": {},
   "outputs": [],
   "source": [
    "# random plaid (sampled from finite selection, without pmf)\n",
    "w, h = (41, 41)\n",
    "np.random.seed(0)\n",
    "canvas_size         = [w, h]\n",
    "locations           = FiniteSelection([[20,20]])\n",
    "sizes               = FiniteSelection([20])\n",
    "spatial_frequencies = FiniteSelection([3/10, 4/10, 5/10])\n",
    "orientations        = FiniteSelection(list(np.arange(0, np.pi, np.pi/8)))\n",
    "phases              = FiniteSelection(list(np.arange(0, 2*np.pi, np.pi/4)))\n",
    "contrasts_preferred = FiniteSelection([0.5, 0.75, 1.0])\n",
    "contrasts_overlap   = FiniteSelection([0.5, 0.75, 1.0], n=1)\n",
    "grey_levels         = FiniteSelection([0.0])\n",
    "angles              = FiniteSelection(list(np.arange(0, np.pi, np.pi/8)))\n",
    "\n",
    "# instantiate plaids class\n",
    "plaids_set2 = PlaidsGaborSet(canvas_size = [41, 41], \n",
    "                             locations=locations,\n",
    "                             sizes=sizes,\n",
    "                             spatial_frequencies=spatial_frequencies,\n",
    "                             orientations=orientations,\n",
    "                             phases=phases,\n",
    "                             contrasts_preferred=contrasts_preferred,\n",
    "                             contrasts_overlap=contrasts_overlap, \n",
    "                             grey_levels=grey_levels, \n",
    "                             angles=angles)"
   ]
  },
  {
   "cell_type": "code",
   "execution_count": 39,
   "metadata": {},
   "outputs": [
    {
     "name": "stdout",
     "output_type": "stream",
     "text": [
      "{'location': [20, 20], 'size': 20, 'spatial_frequency': 0.3, 'orientation': 1.1780972450961724, 'phase': 1.5707963267948966, 'gamma': 1.0, 'contrast_preferred': 0.5, 'contrast_overlap': 0.75, 'angle': 0.7853981633974483, 'grey_level': 0.0}\n"
     ]
    },
    {
     "data": {
      "text/plain": [
       "<matplotlib.image.AxesImage at 0x7f9cdefc8650>"
      ]
     },
     "execution_count": 39,
     "metadata": {},
     "output_type": "execute_result"
    },
    {
     "data": {
      "image/png": "[encoded data removed]",
      "text/plain": [
       "<Figure size 432x288 with 1 Axes>"
      ]
     },
     "metadata": {
      "needs_background": "light"
     },
     "output_type": "display_data"
    }
   ],
   "source": [
    "# plot the generated image\n",
    "print(plaids_set2.params_dict_from_idx(0))\n",
    "plt.imshow(plaids_set2.stimulus_from_idx(0), cmap='gray', vmin=-1, vmax=1)"
   ]
  },
  {
   "cell_type": "markdown",
   "metadata": {},
   "source": [
    "# Plaids - UniformRange"
   ]
  },
  {
   "cell_type": "code",
   "execution_count": 41,
   "metadata": {},
   "outputs": [],
   "source": [
    "# random plaid (sampled from parameter range, without pseudo_inverse density)\n",
    "canvas_size         = [w, h]\n",
    "locations           = UniformRange([[8, 34], [8, 34]])\n",
    "sizes               = UniformRange([10, 30])\n",
    "spatial_frequencies = UniformRange([1/80, 4/10], n=2)\n",
    "orientations        = UniformRange([0, np.pi])\n",
    "phases              = UniformRange([0, 2*np.pi])\n",
    "contrasts_preferred = UniformRange([0.5, 1.0])\n",
    "contrasts_overlap   = UniformRange([0.5, 1.0])\n",
    "grey_levels         = FiniteParameter([0.0])\n",
    "angles              = UniformRange([0, np.pi])\n",
    "\n",
    "# instantiate plaids class\n",
    "plaids_set3 = PlaidsGaborSet(canvas_size = [41, 41], \n",
    "                             locations=locations,\n",
    "                             sizes=sizes,\n",
    "                             spatial_frequencies=spatial_frequencies,\n",
    "                             orientations=orientations,\n",
    "                             phases=phases,\n",
    "                             contrasts_preferred=contrasts_preferred,\n",
    "                             contrasts_overlap=contrasts_overlap, \n",
    "                             grey_levels=grey_levels, \n",
    "                             angles=angles)"
   ]
  },
  {
   "cell_type": "code",
   "execution_count": 42,
   "metadata": {},
   "outputs": [
    {
     "data": {
      "text/plain": [
       "<matplotlib.image.AxesImage at 0x7f9cdf0289d0>"
      ]
     },
     "execution_count": 42,
     "metadata": {},
     "output_type": "execute_result"
    },
    {
     "data": {
      "image/png": "[encoded data removed]",
      "text/plain": [
       "<Figure size 432x288 with 1 Axes>"
      ]
     },
     "metadata": {
      "needs_background": "light"
     },
     "output_type": "display_data"
    }
   ],
   "source": [
    "# plot the generated image\n",
    "plt.imshow(plaids_set3.stimulus_from_idx(0), cmap='gray', vmin=-1, vmax=1)"
   ]
  },
  {
   "cell_type": "code",
   "execution_count": null,
   "metadata": {},
   "outputs": [],
   "source": []
  }
 ],
 "metadata": {
  "kernelspec": {
   "display_name": "Python 3",
   "language": "python",
   "name": "python3"
  },
  "language_info": {
   "codemirror_mode": {
    "name": "ipython",
    "version": 3
   },
   "file_extension": ".py",
   "mimetype": "text/x-python",
   "name": "python",
   "nbconvert_exporter": "python",
   "pygments_lexer": "ipython3",
   "version": "3.7.6"
  }
 },
 "nbformat": 4,
 "nbformat_minor": 4
}
